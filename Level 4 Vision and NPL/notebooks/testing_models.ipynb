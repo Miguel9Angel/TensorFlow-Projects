{
 "cells": [
  {
   "cell_type": "markdown",
   "id": "f97a59d4",
   "metadata": {},
   "source": [
    "##### <font color=#A0A0A0>\n",
    "##### ════════════════════════════════════════════════════════\n",
    "#####     🦾🤖 **CREATING A NEURAL NETWORK FROM SCRATCH**\n",
    "##### ════════════════════════════════════════════════════════ </font>"
   ]
  },
  {
   "cell_type": "markdown",
   "id": "d0f5fe43",
   "metadata": {},
   "source": [
    "#### 🎯 Project Objetive\n",
    "Make a general neural network with some of the most important configurations. Test it with different data sets and track it's performance with differents hyperparameters"
   ]
  },
  {
   "cell_type": "markdown",
   "id": "5de67a50",
   "metadata": {},
   "source": [
    "#### <font color=#A0A0A0> **🔘 Selection of hyperparameters**</font>"
   ]
  },
  {
   "cell_type": "markdown",
   "id": "0a1c7823",
   "metadata": {},
   "source": [
    "#### <font color=#A0A0A0> **🧪 Testing the network with another data set**</font>"
   ]
  },
  {
   "cell_type": "markdown",
   "id": "86d5f69c",
   "metadata": {},
   "source": [
    "#### <font color=#A0A0A0> **🧐 Performance Summary**</font>"
   ]
  },
  {
   "cell_type": "markdown",
   "id": "60063419",
   "metadata": {},
   "source": [
    "#### <font color=#A0A0A0> **🧐✅ Conclusions**</font>"
   ]
  }
 ],
 "metadata": {
  "kernelspec": {
   "display_name": "base",
   "language": "python",
   "name": "python3"
  },
  "language_info": {
   "codemirror_mode": {
    "name": "ipython",
    "version": 3
   },
   "file_extension": ".py",
   "mimetype": "text/x-python",
   "name": "python",
   "nbconvert_exporter": "python",
   "pygments_lexer": "ipython3",
   "version": "3.10.14"
  }
 },
 "nbformat": 4,
 "nbformat_minor": 5
}
