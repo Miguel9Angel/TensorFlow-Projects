{
 "cells": [
  {
   "cell_type": "markdown",
   "id": "f97a59d4",
   "metadata": {},
   "source": [
    "##### <font color=#A0A0A0>\n",
    "##### ════════════════════════════════════════════════════════\n",
    "#####     🦾🤖 **MODEL TRAINING WITH THE OXFORD DATASET DATASET**\n",
    "##### ════════════════════════════════════════════════════════ </font>"
   ]
  },
  {
   "cell_type": "markdown",
   "id": "d0f5fe43",
   "metadata": {},
   "source": [
    "#### 🎯 Project Objetive\n",
    "Make a general neural network with some of the most important configurations. Test it with different data sets and track it's performance with differents hyperparameters"
   ]
  },
  {
   "cell_type": "code",
   "execution_count": 1,
   "id": "e23cebf7",
   "metadata": {},
   "outputs": [
    {
     "name": "stdout",
     "output_type": "stream",
     "text": [
      "Downloading dogs-vs-cats-redux-kernels-edition.zip to ../data\n",
      "\n"
     ]
    },
    {
     "name": "stderr",
     "output_type": "stream",
     "text": [
      "\n",
      "  0%|          | 0.00/814M [00:00<?, ?B/s]\n",
      "  9%|▉         | 77.0M/814M [00:00<00:00, 807MB/s]\n",
      " 20%|█▉        | 159M/814M [00:00<00:00, 836MB/s] \n",
      " 29%|██▉       | 239M/814M [00:00<00:00, 733MB/s]\n",
      " 38%|███▊      | 311M/814M [00:01<00:04, 119MB/s]\n",
      " 49%|████▊     | 395M/814M [00:02<00:02, 168MB/s]\n",
      " 56%|█████▋    | 458M/814M [00:02<00:01, 202MB/s]\n",
      " 62%|██████▏   | 502M/814M [00:04<00:04, 72.0MB/s]\n",
      " 70%|██████▉   | 566M/814M [00:04<00:02, 101MB/s] \n",
      " 82%|████████▏ | 669M/814M [00:04<00:00, 155MB/s]\n",
      " 88%|████████▊ | 715M/814M [00:05<00:01, 89.1MB/s]\n",
      "100%|██████████| 814M/814M [00:06<00:00, 141MB/s] \n"
     ]
    }
   ],
   "source": [
    "# El '!' ejecuta el comando en el terminal de tu notebook\n",
    "!kaggle competitions download -c dogs-vs-cats-redux-kernels-edition -p ../data"
   ]
  },
  {
   "cell_type": "code",
   "execution_count": 6,
   "id": "6f42a19a",
   "metadata": {},
   "outputs": [
    {
     "name": "stdout",
     "output_type": "stream",
     "text": [
      "✅ ¡Decompression completed successfully!\n"
     ]
    }
   ],
   "source": [
    "import zipfile\n",
    "import os\n",
    "\n",
    "file_path = '../data/dogs-vs-cats'\n",
    "os.makedirs(file_path, exist_ok=True)\n",
    "\n",
    "file = '../data/dogs-vs-cats-redux-kernels-edition.zip'\n",
    "try:\n",
    "    with zipfile.ZipFile(file, 'r') as zip_ref:\n",
    "        zip_ref.extractall(file_path)\n",
    "        \n",
    "    print(\"✅ ¡Decompression completed successfully!\")\n",
    "\n",
    "except FileNotFoundError:\n",
    "    print(f\"❌ Error: The ZIP file wasn't found in the path: {file_path}\") "
   ]
  },
  {
   "cell_type": "code",
   "execution_count": 7,
   "id": "6def13a7",
   "metadata": {},
   "outputs": [],
   "source": [
    "files_to_unzip = ['train.zip', 'test.zip'] \n",
    "\n",
    "for zip_file_name in files_to_unzip:\n",
    "    zip_full_path = os.path.join(file_path, zip_file_name)\n",
    "    \n",
    "    if os.path.exists(zip_full_path):\n",
    "        with zipfile.ZipFile(zip_full_path, 'r') as zip_ref:\n",
    "            zip_ref.extractall(file_path) "
   ]
  },
  {
   "cell_type": "code",
   "execution_count": null,
   "id": "a0a51c70",
   "metadata": {},
   "outputs": [
    {
     "name": "stdout",
     "output_type": "stream",
     "text": [
      "Configuración inicial lista.\n",
      "Organizando imágenes de entrenamiento (solo se hace una vez)...\n",
      "Organización de la carpeta de entrenamiento completada.\n"
     ]
    }
   ],
   "source": [
    "import os\n",
    "import shutil\n",
    "from tensorflow.keras.preprocessing.image import ImageDataGenerator\n",
    "\n",
    "BASE_DIR = file_path\n",
    "TRAIN_DIR = os.path.join(BASE_DIR, 'train')\n",
    "TEST_DIR = os.path.join(BASE_DIR, 'test')\n",
    "\n",
    "IMG_HEIGHT = 150\n",
    "IMG_WIDTH = 150\n",
    "BATCH_SIZE = 32\n",
    "\n",
    "print(\"Configuración inicial lista.\")\n",
    "\n",
    "train_cats_dir = os.path.join(TRAIN_DIR, 'cats')\n",
    "train_dogs_dir = os.path.join(TRAIN_DIR, 'dogs')\n",
    "\n",
    "os.makedirs(train_cats_dir, exist_ok=True)\n",
    "os.makedirs(train_dogs_dir, exist_ok=True)\n",
    "\n",
    "if not os.listdir(train_cats_dir): \n",
    "    print(\"Organizando imágenes de entrenamiento (solo se hace una vez)...\")\n",
    "    file_names = os.listdir(TRAIN_DIR)\n",
    "    \n",
    "    for fname in file_names:\n",
    "        if fname.endswith('.jpg'):\n",
    "            src = os.path.join(TRAIN_DIR, fname)\n",
    "            \n",
    "            if fname.startswith('cat'):\n",
    "                dst = os.path.join(train_cats_dir, fname)\n",
    "                shutil.move(src, dst)\n",
    "            elif fname.startswith('dog'):\n",
    "                dst = os.path.join(train_dogs_dir, fname)\n",
    "                shutil.move(src, dst)\n",
    "\n",
    "print(\"Organización de la carpeta de entrenamiento completada.\")"
   ]
  },
  {
   "cell_type": "code",
   "execution_count": 28,
   "id": "8e91e0d5",
   "metadata": {},
   "outputs": [
    {
     "name": "stdout",
     "output_type": "stream",
     "text": [
      "Found 25000 images belonging to 2 classes.\n",
      "Found 37500 images belonging to 2 classes.\n",
      "\n",
      "--- RESUMEN DE GENERADORES ---\n",
      "Imágenes de entrenamiento listas: 25000\n",
      "Imágenes de prueba listas: 37500\n",
      "Nombres de archivo de prueba (orden de predicción): ['test\\\\1.jpg', 'test\\\\10.jpg', 'test\\\\100.jpg', 'test\\\\1000.jpg', 'test\\\\10000.jpg']...\n"
     ]
    }
   ],
   "source": [
    "train_datagen = ImageDataGenerator(rescale=1./255) \n",
    "train_generator = train_datagen.flow_from_directory(\n",
    "    TRAIN_DIR,\n",
    "    target_size=(IMG_HEIGHT, IMG_WIDTH),\n",
    "    batch_size=BATCH_SIZE,\n",
    "    class_mode='binary' \n",
    ")\n",
    "\n",
    "test_datagen = ImageDataGenerator(rescale=1./255)\n",
    "test_generator = test_datagen.flow_from_directory(\n",
    "    os.path.dirname(TEST_DIR), \n",
    "    target_size=(IMG_HEIGHT, IMG_WIDTH),\n",
    "    batch_size=BATCH_SIZE,\n",
    "    \n",
    "    classes=None, \n",
    "    class_mode=None, \n",
    "    shuffle=False \n",
    ")\n",
    "\n",
    "print(\"\\n--- RESUMEN DE GENERADORES ---\")\n",
    "print(f\"Imágenes de entrenamiento listas: {train_generator.samples}\")\n",
    "print(f\"Imágenes de prueba listas: {test_generator.samples}\")\n",
    "\n",
    "test_filenames = test_generator.filenames\n",
    "print(f\"Nombres de archivo de prueba (orden de predicción): {test_filenames[:5]}...\")"
   ]
  },
  {
   "cell_type": "markdown",
   "id": "0a1c7823",
   "metadata": {},
   "source": [
    "#### <font color=#A0A0A0> **🧪 Testing the network with another data set**</font>"
   ]
  },
  {
   "cell_type": "markdown",
   "id": "86d5f69c",
   "metadata": {},
   "source": [
    "#### <font color=#A0A0A0> **🧐 Performance Summary**</font>"
   ]
  },
  {
   "cell_type": "markdown",
   "id": "60063419",
   "metadata": {},
   "source": [
    "#### <font color=#A0A0A0> **🧐✅ Conclusions**</font>"
   ]
  },
  {
   "cell_type": "markdown",
   "id": "5de67a50",
   "metadata": {},
   "source": [
    "#### <font color=#A0A0A0> **🔘 Selection of hyperparameters**</font>"
   ]
  }
 ],
 "metadata": {
  "kernelspec": {
   "display_name": "base",
   "language": "python",
   "name": "python3"
  },
  "language_info": {
   "codemirror_mode": {
    "name": "ipython",
    "version": 3
   },
   "file_extension": ".py",
   "mimetype": "text/x-python",
   "name": "python",
   "nbconvert_exporter": "python",
   "pygments_lexer": "ipython3",
   "version": "3.10.14"
  }
 },
 "nbformat": 4,
 "nbformat_minor": 5
}
