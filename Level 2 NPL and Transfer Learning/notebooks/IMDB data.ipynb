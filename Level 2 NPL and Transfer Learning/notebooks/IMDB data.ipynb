{
 "cells": [
  {
   "cell_type": "code",
   "execution_count": 2,
   "id": "3033a921",
   "metadata": {},
   "outputs": [
    {
     "name": "stdout",
     "output_type": "stream",
     "text": [
      "Downloaded file: ../data\\aclImdb_v1.tar.gz\n",
      "Extracted files in: ../data\n",
      " - imdb.vocab\n",
      " - imdbEr.txt\n",
      " - README\n",
      " - test\n",
      " - train\n"
     ]
    }
   ],
   "source": [
    "#Donwloading dataset\n",
    "import requests\n",
    "import tarfile\n",
    "import os\n",
    "\n",
    "output_dir = '../data'\n",
    "os.makedirs(output_dir, exist_ok=True)\n",
    "\n",
    "url = \"https://ai.stanford.edu/~amaas/data/sentiment/aclImdb_v1.tar.gz\"\n",
    "\n",
    "tar_path = os.path.join(output_dir, 'aclImdb_v1.tar.gz')\n",
    "\n",
    "response = requests.get(url, stream=True)\n",
    "if response.status_code  == 200:\n",
    "    with open(tar_path, 'wb') as file:\n",
    "        for chunk in response.iter_content(chunk_size=8192):\n",
    "            file.write(chunk)\n",
    "    print(f'Downloaded file: {tar_path}')\n",
    "else:\n",
    "    print(f'Donwloaded error {response.status_code}')\n",
    "    \n",
    "with tarfile.open(tar_path, 'r:gz') as tar_ref:\n",
    "    tar_ref.extractall(output_dir)\n",
    "    print(f'Extracted files in: {output_dir}')\n",
    "    \n",
    "imdb_dir = os.path.join(output_dir, 'aclImdb')\n",
    "if os.path.exists(imdb_dir):\n",
    "    for item in os.listdir(imdb_dir):\n",
    "        print(f' - {item}')\n",
    "else:\n",
    "    print('Error: The folder aclImdb not found')"
   ]
  }
 ],
 "metadata": {
  "kernelspec": {
   "display_name": "base",
   "language": "python",
   "name": "python3"
  },
  "language_info": {
   "codemirror_mode": {
    "name": "ipython",
    "version": 3
   },
   "file_extension": ".py",
   "mimetype": "text/x-python",
   "name": "python",
   "nbconvert_exporter": "python",
   "pygments_lexer": "ipython3",
   "version": "3.10.14"
  }
 },
 "nbformat": 4,
 "nbformat_minor": 5
}
